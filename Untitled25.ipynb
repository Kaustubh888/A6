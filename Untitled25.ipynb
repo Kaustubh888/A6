{
 "cells": [
  {
   "cell_type": "code",
   "execution_count": null,
   "id": "90f9788a",
   "metadata": {},
   "outputs": [],
   "source": [
    "1. What are escape characters, and how do you use them?\n",
    "\n",
    "=  An escape sequence is a sequence of characters that, when used inside a character or string, \n",
    "   does not represent itself but is converted into another character or series of characters\n",
    "\n",
    "    print('Kaustubh\\nHindlekar')\n",
    "    \n",
    "    output -> Kaustubh \n",
    "              Hindlekar\n",
    "        \n",
    "    print('Kaustubh\\tHindlekar')\n",
    "    \n",
    "    output -> Kaustubh        Hindlekar\n",
    "    \n",
    "\n",
    "  \\’\tSingle quote\n",
    "  \\\\’\tDouble quote\n",
    "  \\\\\tBackslash\n",
    "  \\n\tNewline\n",
    "  \\r\tCarriage Return\n",
    "  \\t\tHorizontal Tab\n",
    "  \\b\tBackspace\n",
    "  \\f\tFormfeed\n",
    "  \\v\tVertical Tab\n",
    "  \\0\tNull Character\n",
    "  \\N{Name}\tUnicode character Database named lookup"
   ]
  },
  {
   "cell_type": "code",
   "execution_count": null,
   "id": "b8d7392b",
   "metadata": {},
   "outputs": [],
   "source": [
    "2. What do the escape characters n and t stand for?\n",
    "\n",
    "= The statement after \\n gets printed in the Newline.\n",
    "  eg ->  \n",
    "                  print('Kaustubh\\nHindlekar')\n",
    "    \n",
    "                   output -> Kaustubh \n",
    "                             Hindlekar\n",
    "  The statement after \\t gets printed after some tab space.\n",
    "  eg -> \n",
    "                  print('Kaustubh\\tHindlekar')\n",
    "                   \n",
    "                   output -> Kaustubh     Hindlekar"
   ]
  },
  {
   "cell_type": "code",
   "execution_count": null,
   "id": "4c19b40c",
   "metadata": {},
   "outputs": [],
   "source": [
    "3. What is the way to include backslash characters in a string?\n",
    "\n",
    "= xyz = \"A student from \\\\ iNeuron.\"\n",
    "  print(xyz) "
   ]
  },
  {
   "cell_type": "code",
   "execution_count": null,
   "id": "067b7491",
   "metadata": {},
   "outputs": [],
   "source": [
    "4. \n",
    "\n",
    "= \"Howl's Moving Castle\" is a correct value because the single quote character should be written inside a double quote character or vice versa."
   ]
  },
  {
   "cell_type": "code",
   "execution_count": null,
   "id": "6b96c14f",
   "metadata": {},
   "outputs": [],
   "source": [
    "5.\n",
    "\n",
    "=   list = ['KCH','YUYDJ','RAGSRDNXB']\n",
    "    for c in list:\n",
    "        print(c)"
   ]
  },
  {
   "cell_type": "code",
   "execution_count": null,
   "id": "a2cab8f6",
   "metadata": {},
   "outputs": [],
   "source": [
    "6.\n",
    "\n",
    "= 'hello,World[1]' -> e\n",
    "  'hello,World[0:5]' -> hello\n",
    "  'hello,World[:5]' -> hello\n",
    "  'hello,World[3:]' -> lo,world"
   ]
  },
  {
   "cell_type": "code",
   "execution_count": null,
   "id": "6608dc87",
   "metadata": {},
   "outputs": [],
   "source": [
    "7.\n",
    "\n",
    "= 'Hello'.upper()   ->  'HELLO'\n",
    "  'Hello'.upper().isupper()  -> True\n",
    "  'Hello'.upper().lower()  ->   'hello'"
   ]
  },
  {
   "cell_type": "code",
   "execution_count": null,
   "id": "d5d5cf6a",
   "metadata": {},
   "outputs": [],
   "source": [
    "8.\n",
    "\n",
    "= 'Remember, remember, the fifth of July'.split()  ->   ['Remember,', 'remember,', 'the', 'fifth', 'of', 'July']\n",
    "  '-'.join('There can only one.'.split())    ->  'There-can-only-one.\n",
    "  "
   ]
  },
  {
   "cell_type": "code",
   "execution_count": null,
   "id": "4113519d",
   "metadata": {},
   "outputs": [],
   "source": [
    "9. What are the methods for right-justifying, left-justifying, and centering a string?\n",
    "\n",
    "= ljust(),rjust() and center()"
   ]
  },
  {
   "cell_type": "code",
   "execution_count": null,
   "id": "e6953947",
   "metadata": {},
   "outputs": [],
   "source": [
    "10. What is the best way to remove whitespace characters from the start or end?\n",
    "\n",
    "=  To remove whitespaces charcters from the start or end we can use in build function such as lstrip and rstrip\n",
    "   In the lstrip,whitespace are removed from the start of the characters\n",
    "   In the rstrip,whitespace are removed from the end of the characters."
   ]
  }
 ],
 "metadata": {
  "kernelspec": {
   "display_name": "Python 3",
   "language": "python",
   "name": "python3"
  },
  "language_info": {
   "codemirror_mode": {
    "name": "ipython",
    "version": 3
   },
   "file_extension": ".py",
   "mimetype": "text/x-python",
   "name": "python",
   "nbconvert_exporter": "python",
   "pygments_lexer": "ipython3",
   "version": "3.8.8"
  }
 },
 "nbformat": 4,
 "nbformat_minor": 5
}
